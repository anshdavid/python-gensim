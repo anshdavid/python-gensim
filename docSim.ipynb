{
 "metadata": {
  "language_info": {
   "codemirror_mode": {
    "name": "ipython",
    "version": 3
   },
   "file_extension": ".py",
   "mimetype": "text/x-python",
   "name": "python",
   "nbconvert_exporter": "python",
   "pygments_lexer": "ipython3",
   "version": "3.8.8"
  },
  "orig_nbformat": 2,
  "kernelspec": {
   "name": "python388jvsc74a57bd024ad2aac3716e627aecdbb1809663645964025d30cb1a986cbb5fd67e57310a8",
   "display_name": "Python 3.8.8 64-bit ('ai': conda)"
  },
  "metadata": {
   "interpreter": {
    "hash": "24ad2aac3716e627aecdbb1809663645964025d30cb1a986cbb5fd67e57310a8"
   }
  }
 },
 "nbformat": 4,
 "nbformat_minor": 2,
 "cells": [
  {
   "cell_type": "code",
   "execution_count": 1,
   "metadata": {},
   "outputs": [
    {
     "output_type": "stream",
     "name": "stdout",
     "text": [
      "3.8.3\n"
     ]
    }
   ],
   "source": [
    "import gensim\n",
    "from gensim.matutils import softcossim \n",
    "from gensim import corpora\n",
    "import gensim.downloader as api\n",
    "from gensim.utils import simple_preprocess\n",
    "from gensim.models import TfidfModel\n",
    "from gensim import models\n",
    "import warnings\n",
    "warnings.filterwarnings('ignore')\n",
    "print(gensim.__version__)"
   ]
  },
  {
   "source": [
    "# load model"
   ],
   "cell_type": "markdown",
   "metadata": {}
  },
  {
   "cell_type": "code",
   "execution_count": 2,
   "metadata": {},
   "outputs": [],
   "source": [
    "googleModel = models.KeyedVectors.load_word2vec_format(r'models/google-negative300.bin', binary=True)\n",
    "fasttextModel =  models.KeyedVectors.load_word2vec_format(r'models/fasttext-wiki-news-subwords-300.gz', binary=False)"
   ]
  },
  {
   "cell_type": "code",
   "execution_count": 3,
   "metadata": {},
   "outputs": [],
   "source": [
    "# doc1 = \"Soup is a primarily liquid food, generally served warm or hot (but may be cool or cold), that is made by combining ingredients of meat or vegetables with stock, juice, water, or another liquid.\"\n",
    "# doc2 = \"Noodles are a staple food in many cultures. They are made from unleavened dough which is stretched, extruded, or rolled flat and cut into one of a variety of shapes.\"\n",
    "doc1 = \"girl in a pink dress\"\n",
    "doc2 = \"man in a pink shirt\""
   ]
  },
  {
   "source": [
    "# dictionary and corpus."
   ],
   "cell_type": "markdown",
   "metadata": {}
  },
  {
   "cell_type": "code",
   "execution_count": 4,
   "metadata": {},
   "outputs": [],
   "source": [
    "documents = [doc1, doc2]\n",
    "dictionary = corpora.Dictionary([simple_preprocess(doc) for doc in documents])"
   ]
  },
  {
   "source": [
    "# tfidf if needed"
   ],
   "cell_type": "markdown",
   "metadata": {}
  },
  {
   "cell_type": "code",
   "execution_count": 5,
   "metadata": {},
   "outputs": [],
   "source": [
    "corpus = [dictionary.doc2bow(simple_preprocess(doc)) for doc in documents] \n",
    "tfidfModel = TfidfModel(corpus)"
   ]
  },
  {
   "source": [
    "# similarity matrix"
   ],
   "cell_type": "markdown",
   "metadata": {}
  },
  {
   "cell_type": "code",
   "execution_count": 6,
   "metadata": {},
   "outputs": [],
   "source": [
    "simMatFastText = fasttextModel.similarity_matrix(dictionary, tfidf=tfidfModel, threshold=0.0, exponent=2.0, nonzero_limit=100)\n",
    "simMatGoogle = googleModel.similarity_matrix(dictionary, tfidf=tfidfModel, threshold=0.0, exponent=2.0, nonzero_limit=100)"
   ]
  },
  {
   "source": [
    "# simple preprocess"
   ],
   "cell_type": "markdown",
   "metadata": {}
  },
  {
   "cell_type": "code",
   "execution_count": 7,
   "metadata": {},
   "outputs": [],
   "source": [
    "processedDoc1 = dictionary.doc2bow(simple_preprocess(doc1))\n",
    "processedDoc2 = dictionary.doc2bow(simple_preprocess(doc2))"
   ]
  },
  {
   "cell_type": "code",
   "execution_count": 8,
   "metadata": {},
   "outputs": [
    {
     "output_type": "stream",
     "name": "stdout",
     "text": [
      "fasttext  0.6932604312896729\ngoogle  0.5876667499542236\n"
     ]
    }
   ],
   "source": [
    "print(\"fasttext \", softcossim(processedDoc1, processedDoc2, simMatFastText))\n",
    "print(\"google \", softcossim(processedDoc1, processedDoc2, simMatGoogle))\n"
   ]
  },
  {
   "source": [
    "- MatrixSimilarity: Index similarity (dense with cosine distance).\n",
    "\n",
    "- SparseMatrixSimilarity: Index similarity (sparse with cosine distance).\n",
    "\n",
    "- WmdSimilarity: Index similarity (with word-mover distance)."
   ],
   "cell_type": "markdown",
   "metadata": {}
  },
  {
   "source": [
    "### similar words test"
   ],
   "cell_type": "markdown",
   "metadata": {}
  },
  {
   "cell_type": "code",
   "execution_count": 11,
   "metadata": {},
   "outputs": [
    {
     "output_type": "stream",
     "name": "stdout",
     "text": [
      "most_similar_key, similarity :  ('yearold', 0.4635971188545227)\nmost_similar_key, similarity :  ('older', 0.5929399728775024)\n"
     ]
    }
   ],
   "source": [
    "result = googleModel.most_similar(positive=['adult', 'old'], negative=['women'])\n",
    "print(\"most_similar_key, similarity : \",result[0])\n",
    "result = fasttextModel.most_similar(positive=['adult', 'old'], negative=['women'])\n",
    "print(\"most_similar_key, similarity : \",result[0])\n"
   ]
  },
  {
   "cell_type": "code",
   "execution_count": null,
   "metadata": {},
   "outputs": [],
   "source": []
  }
 ]
}